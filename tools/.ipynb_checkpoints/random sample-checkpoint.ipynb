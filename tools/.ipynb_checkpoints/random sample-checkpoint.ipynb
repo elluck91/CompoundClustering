{
 "cells": [
  {
   "cell_type": "code",
   "execution_count": 21,
   "metadata": {},
   "outputs": [
    {
     "name": "stdout",
     "output_type": "stream",
     "text": [
      "0100000000010000000000000000000001000000000000000000000000000000000001000000000010000000000000000000000000000000000001000000010000000000000000000000000000000000000000000000000000000000000000000000000000000000000000000000000000000000000000000000000000000000000000000010000000000000000000000000000000000000000000000000001100000000000000000000000000000000000000000000000000100000000000000000010000000000000000000000001000000000000000000000000000000000000000000000000000000000000000000000000000000000000000000000000000000000000000000000000000000000000000000000000000000000000001000000000000000000000000000000000000000000000000000000100000000000000000000010000000000000000000000000000000000000000000010000000000000000010000000000000000000000000000000000000000000000000000000000000000000000000000000000000000000001000000000000000000000000000000100000010000000000000000000000000000001000000000000000010000000000000000000000000000000000000000000000000000000000000000000000000000000000000010000000000000000000000000000000000001000000\n",
      "\n"
     ]
    }
   ],
   "source": [
    "import random\n",
    "\n",
    "# read the fingerprint\n",
    "inp = open(\"/media/elluck91/30B0D4C6B0D493A6/morgan_1024.fps\", 'r')\n",
    "\n",
    "# select 100,000 samples randomly\n",
    "output1 = open(\"/media/elluck91/30B0D4C6B0D493A6/sample_0_morgan_1024.fps\", \"w+\")\n",
    "output2 = open(\"/media/elluck91/30B0D4C6B0D493A6/sample_1_morgan_1024.fps\", \"w+\")\n",
    "output3 = open(\"/media/elluck91/30B0D4C6B0D493A6/sample_2_morgan_1024.fps\", \"w+\")\n",
    "output4 = open(\"/media/elluck91/30B0D4C6B0D493A6/sample_3_morgan_1024.fps\", \"w+\")\n",
    "output5 = open(\"/media/elluck91/30B0D4C6B0D493A6/sample_4_morgan_1024.fps\", \"w+\")\n",
    "\n",
    "#size = 100000\n",
    "size = 100\n",
    "\n",
    "row_ids1 = random.sample(range(0, 10544178), size)\n",
    "row_ids2 = random.sample(range(0, 10544178), size)\n",
    "row_ids3 = random.sample(range(0, 10544178), size)\n",
    "row_ids4 = random.sample(range(0, 10544178), size)\n",
    "row_ids5 = random.sample(range(0, 10544178), size)\n",
    "\n",
    "row_ids1.sort()\n",
    "row_ids2.sort()\n",
    "row_ids3.sort()\n",
    "row_ids4.sort()\n",
    "row_ids5.sort()\n",
    "\n",
    "\n",
    "row_num = 0\n",
    "ids_num1 = 0\n",
    "ids_num2 = 0\n",
    "ids_num3 = 0\n",
    "ids_num4 = 0\n",
    "ids_num5 = 0\n",
    "\n",
    "for row in inp:\n",
    "    print(row)\n",
    "    break\n",
    "    print(\"\\r %d %%\" % (row_num/10544178.0 * 100), end='')\n",
    "    if row_num == row_ids1[ids_num1]:\n",
    "        output1.write(row)\n",
    "        if ids_num1 < size-1:\n",
    "            ids_num1 = ids_num1 + 1\n",
    "    if row_num == row_ids2[ids_num2]:\n",
    "        output2.write(row)\n",
    "        if ids_num2 < size-1:\n",
    "            ids_num2 = ids_num2 + 1\n",
    "    if row_num == row_ids3[ids_num3]:\n",
    "        output3.write(row)\n",
    "        if ids_num3 < size-1:\n",
    "            ids_num3 = ids_num3 + 1\n",
    "    if row_num == row_ids4[ids_num4]:\n",
    "        output4.write(row)\n",
    "        if ids_num4 < size-1:\n",
    "            ids_num4 = ids_num4 + 1\n",
    "    if row_num == row_ids5[ids_num5]:\n",
    "        output5.write(row)\n",
    "        if ids_num5 < size-1:\n",
    "            ids_num5 = ids_num5 + 1\n",
    "\n",
    "    row_num = row_num + 1\n",
    "\n",
    "inp.close()\n",
    "output1.flush()\n",
    "output1.close()\n",
    "output2.flush()\n",
    "output2.close()\n",
    "output3.flush()\n",
    "output3.close()\n",
    "output4.flush()\n",
    "output4.close()\n",
    "output5.flush()\n",
    "output5.close()"
   ]
  },
  {
   "cell_type": "code",
   "execution_count": null,
   "metadata": {
    "collapsed": true
   },
   "outputs": [],
   "source": []
  }
 ],
 "metadata": {
  "kernelspec": {
   "display_name": "Python 3",
   "language": "python",
   "name": "python3"
  },
  "language_info": {
   "codemirror_mode": {
    "name": "ipython",
    "version": 3
   },
   "file_extension": ".py",
   "mimetype": "text/x-python",
   "name": "python",
   "nbconvert_exporter": "python",
   "pygments_lexer": "ipython3",
   "version": "3.6.3"
  }
 },
 "nbformat": 4,
 "nbformat_minor": 2
}
